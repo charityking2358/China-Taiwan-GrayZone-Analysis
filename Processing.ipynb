{
 "cells": [
  {
   "cell_type": "code",
   "execution_count": 5,
   "id": "78e413f0",
   "metadata": {},
   "outputs": [],
   "source": [
    "import pandas as pd\n",
    "import glob\n",
    "import json\n",
    "#import twitter_col\n",
    "import re\n",
    "from tqdm import tqdm\n",
    "import pickle\n",
    "import numpy as np\n",
    "from datetime import datetime\n",
    "from datetime import date"
   ]
  },
  {
   "cell_type": "code",
   "execution_count": 7,
   "id": "5100c182",
   "metadata": {},
   "outputs": [],
   "source": [
    "#Part 2. Temporal Topic Modeling\n",
    "#This section parses tweets associated to Chinese Accounts: Original or Retweets"
   ]
  },
  {
   "cell_type": "code",
   "execution_count": 37,
   "id": "0c981c31",
   "metadata": {},
   "outputs": [
    {
     "name": "stdout",
     "output_type": "stream",
     "text": [
      "total tweets 4255560\n",
      "    Writing 155836 tweets to file: Data/State-Sponsored-Tweets/Taiwan-Tweets-Retweets-All-Jan23.json\n"
     ]
    }
   ],
   "source": [
    "#1) Filter out only Chinese-State-Sponsored Tweets ~7,419k tweets  --> json \n",
    "input_folder = 'Data/final_data/Taiwan/'\n",
    "\n",
    "names = []\n",
    "messages = []\n",
    "dates = []\n",
    "ids = []\n",
    "result = []\n",
    "\n",
    "total_tweets = 0 \n",
    "\n",
    "for input_file in glob.glob(\"{}*.json\".format(input_folder)):\n",
    "    with open(input_file, \"r\", encoding='utf-8') as f:\n",
    "        for index, line in enumerate(f):\n",
    "            full_dict = json.loads(line)\n",
    "            total_tweets +=1\n",
    "            if full_dict['lang'] == 'en':\n",
    "    \n",
    "                \n",
    "                try:\n",
    "                    name = full_dict['user']['screen_name']\n",
    "                    user_id = full_dict['user']['id']\n",
    "                    date = full_dict['created_at']\n",
    "                    text = full_dict['text']\n",
    "                    #mentions only used if you need the retweets also \n",
    "                    if full_dict['entities']['user_mentions'][0]['screen_name']:\n",
    "                        mention = full_dict['entities']['user_mentions'][0]['screen_name']\n",
    "                    else: \n",
    "                        mention = 'None'\n",
    "                        print ('No mentions')\n",
    "                    \n",
    "\n",
    "                    names.append(name)\n",
    "                    dates.append(date)\n",
    "                    ids.append(user_id)\n",
    "                    messages.append(text)\n",
    "                    result.append(full_dict)\n",
    "         \n",
    "                except: \n",
    "                    pass\n",
    "                    #print ('unable to grab screen name')       \n",
    "                    \n",
    "print (\"total tweets\", total_tweets)\n",
    "filename = input_folder + '/State-Sponsored-Tweets/Taiwan-Tweets-Retweets-All-JAN23.json'\n",
    "# print(\"    Writing \" + str(len(result)) + \" tweets to file: \" + filename)\n",
    "# with open(filename, 'w') as outfile:\n",
    "#     for tweet in result:\n",
    "#         print(json.dumps(tweet, sort_keys=True), file=outfile)"
   ]
  },
  {
   "cell_type": "code",
   "execution_count": 3,
   "id": "08fae327",
   "metadata": {},
   "outputs": [],
   "source": [
    "#split all Twitter-Retweet data into 3 period\n",
    "pelosi1 = []\n",
    "pelosi2= []\n",
    "pelosi3 = []\n",
    "\n",
    "\n",
    "with open(\"Data/State-Sponsored-Tweets/Taiwan-Tweets-Retweets-All-Jan23.json\", \"r\", encoding='utf-8') as f:\n",
    "    for index, line in enumerate(f):\n",
    "        full_dict = json.loads(line)\n",
    "        tweet_date = datetime.strptime(full_dict['created_at'],'%a %b %d %H:%M:%S +0000 %Y')\n",
    "        #print (tweet_date)\n",
    "        if tweet_date > datetime.strptime(\"2022-04-07\", '%Y-%m-%d') and tweet_date < datetime.strptime(\"2022-08-02\", '%Y-%m-%d'):\n",
    "             pelosi1.append(full_dict)\n",
    "        if tweet_date > datetime.strptime(\"2022-08-02\", '%Y-%m-%d') and tweet_date < datetime.strptime(\"2022-08-09\", '%Y-%m-%d'):\n",
    "             pelosi2.append(full_dict)\n",
    "        elif tweet_date > datetime.strptime(\"2022-08-09\", '%Y-%m-%d') and tweet_date < datetime.strptime(\"2022-10-09\", '%Y-%m-%d'):\n",
    "             pelosi3.append(full_dict)\n",
    "                "
   ]
  },
  {
   "cell_type": "code",
   "execution_count": 4,
   "id": "28732408",
   "metadata": {},
   "outputs": [
    {
     "name": "stdout",
     "output_type": "stream",
     "text": [
      "    Writing 12734 tweets to file: Data/State-Sponsored-Tweets/pre-pelosi2.json\n",
      "    Writing 109469 tweets to file: Data/State-Sponsored-Tweets/mid-pelosi2.json\n",
      "    Writing 19331 tweets to file: Data/State-Sponsored-Tweets/post-pelosi2.json\n"
     ]
    }
   ],
   "source": [
    "filename = 'Data/State-Sponsored-Tweets/pre-pelosi2.json'\n",
    "print(\"    Writing \" + str(len(pelosi1)) + \" tweets to file: \" + filename)\n",
    "with open(filename, 'w') as outfile:\n",
    "    for tweet in pelosi1:\n",
    "        print(json.dumps(tweet, sort_keys=True), file=outfile)\n",
    "        \n",
    "filename = 'Data/State-Sponsored-Tweets/mid-pelosi2.json'\n",
    "print(\"    Writing \" + str(len(pelosi2)) + \" tweets to file: \" + filename)\n",
    "with open(filename, 'w') as outfile:\n",
    "    for tweet in pelosi2:\n",
    "        print(json.dumps(tweet, sort_keys=True), file=outfile)\n",
    "        \n",
    "filename = 'Data/State-Sponsored-Tweets/post-pelosi2.json'\n",
    "print(\"    Writing \" + str(len(pelosi3)) + \" tweets to file: \" + filename)\n",
    "with open(filename, 'w') as outfile:\n",
    "    for tweet in pelosi3:\n",
    "        print(json.dumps(tweet, sort_keys=True), file=outfile)"
   ]
  },
  {
   "cell_type": "code",
   "execution_count": 38,
   "id": "b7aec216",
   "metadata": {},
   "outputs": [
    {
     "data": {
      "text/plain": [
       "(155836, 4)"
      ]
     },
     "execution_count": 38,
     "metadata": {},
     "output_type": "execute_result"
    }
   ],
   "source": [
    "# Put tweets into csv form for Topic Modeling and Regression Modeling\n",
    "\n",
    "tweets = pd.DataFrame()\n",
    "tweets['Screen_Name'] = names\n",
    "tweets['ID'] = ids\n",
    "tweets['Messages'] = messages\n",
    "tweets['Date_Stamp'] = dates\n",
    "tweets.shape"
   ]
  },
  {
   "cell_type": "code",
   "execution_count": 41,
   "id": "e6fdf238",
   "metadata": {},
   "outputs": [],
   "source": [
    "from dateutil.parser import parse\n",
    "china_tweets['Date'] = china_tweets['Date_Stamp'].apply(lambda x: parse(x))"
   ]
  },
  {
   "cell_type": "code",
   "execution_count": 42,
   "id": "68ada993",
   "metadata": {},
   "outputs": [
    {
     "data": {
      "text/html": [
       "<div>\n",
       "<style scoped>\n",
       "    .dataframe tbody tr th:only-of-type {\n",
       "        vertical-align: middle;\n",
       "    }\n",
       "\n",
       "    .dataframe tbody tr th {\n",
       "        vertical-align: top;\n",
       "    }\n",
       "\n",
       "    .dataframe thead th {\n",
       "        text-align: right;\n",
       "    }\n",
       "</style>\n",
       "<table border=\"1\" class=\"dataframe\">\n",
       "  <thead>\n",
       "    <tr style=\"text-align: right;\">\n",
       "      <th></th>\n",
       "      <th>Screen_Name</th>\n",
       "      <th>ID</th>\n",
       "      <th>Messages</th>\n",
       "      <th>Date_Stamp</th>\n",
       "      <th>State_Sponsor</th>\n",
       "      <th>probability</th>\n",
       "      <th>IS_BOT</th>\n",
       "      <th>Date</th>\n",
       "    </tr>\n",
       "  </thead>\n",
       "  <tbody>\n",
       "    <tr>\n",
       "      <th>0</th>\n",
       "      <td>BabyCha93005924</td>\n",
       "      <td>1466675766909759493</td>\n",
       "      <td>RT @CGMeifangZhang: More than 3,000 members of...</td>\n",
       "      <td>Sun Aug 28 23:55:29 +0000 2022</td>\n",
       "      <td>0</td>\n",
       "      <td>0.759997</td>\n",
       "      <td>1</td>\n",
       "      <td>2022-08-28 23:55:29+00:00</td>\n",
       "    </tr>\n",
       "    <tr>\n",
       "      <th>1</th>\n",
       "      <td>ClemFandango987</td>\n",
       "      <td>1469045313209966593</td>\n",
       "      <td>RT @CGMeifangZhang: More than 3,000 members of...</td>\n",
       "      <td>Sun Aug 28 23:33:35 +0000 2022</td>\n",
       "      <td>0</td>\n",
       "      <td>0.784597</td>\n",
       "      <td>1</td>\n",
       "      <td>2022-08-28 23:33:35+00:00</td>\n",
       "    </tr>\n",
       "    <tr>\n",
       "      <th>2</th>\n",
       "      <td>ShaotsingFromCN</td>\n",
       "      <td>84245889</td>\n",
       "      <td>RT @CGMeifangZhang: More than 3,000 members of...</td>\n",
       "      <td>Sun Aug 28 23:31:23 +0000 2022</td>\n",
       "      <td>0</td>\n",
       "      <td>0.520254</td>\n",
       "      <td>0</td>\n",
       "      <td>2022-08-28 23:31:23+00:00</td>\n",
       "    </tr>\n",
       "    <tr>\n",
       "      <th>3</th>\n",
       "      <td>jml34577122</td>\n",
       "      <td>1455816305622220800</td>\n",
       "      <td>RT @PDChina: The Eastern Theater Command of th...</td>\n",
       "      <td>Sun Aug 28 23:26:41 +0000 2022</td>\n",
       "      <td>0</td>\n",
       "      <td>0.879624</td>\n",
       "      <td>1</td>\n",
       "      <td>2022-08-28 23:26:41+00:00</td>\n",
       "    </tr>\n",
       "    <tr>\n",
       "      <th>4</th>\n",
       "      <td>DWZ777</td>\n",
       "      <td>1426598677280346119</td>\n",
       "      <td>@AndyBxxx @MarshaBlackburn #Taiwan 🇹🇼 is a gre...</td>\n",
       "      <td>Sun Aug 28 23:09:26 +0000 2022</td>\n",
       "      <td>0</td>\n",
       "      <td>0.926665</td>\n",
       "      <td>1</td>\n",
       "      <td>2022-08-28 23:09:26+00:00</td>\n",
       "    </tr>\n",
       "  </tbody>\n",
       "</table>\n",
       "</div>"
      ],
      "text/plain": [
       "       Screen_Name                   ID  \\\n",
       "0  BabyCha93005924  1466675766909759493   \n",
       "1  ClemFandango987  1469045313209966593   \n",
       "2  ShaotsingFromCN             84245889   \n",
       "3      jml34577122  1455816305622220800   \n",
       "4           DWZ777  1426598677280346119   \n",
       "\n",
       "                                            Messages  \\\n",
       "0  RT @CGMeifangZhang: More than 3,000 members of...   \n",
       "1  RT @CGMeifangZhang: More than 3,000 members of...   \n",
       "2  RT @CGMeifangZhang: More than 3,000 members of...   \n",
       "3  RT @PDChina: The Eastern Theater Command of th...   \n",
       "4  @AndyBxxx @MarshaBlackburn #Taiwan 🇹🇼 is a gre...   \n",
       "\n",
       "                       Date_Stamp  State_Sponsor  probability  IS_BOT  \\\n",
       "0  Sun Aug 28 23:55:29 +0000 2022              0     0.759997       1   \n",
       "1  Sun Aug 28 23:33:35 +0000 2022              0     0.784597       1   \n",
       "2  Sun Aug 28 23:31:23 +0000 2022              0     0.520254       0   \n",
       "3  Sun Aug 28 23:26:41 +0000 2022              0     0.879624       1   \n",
       "4  Sun Aug 28 23:09:26 +0000 2022              0     0.926665       1   \n",
       "\n",
       "                       Date  \n",
       "0 2022-08-28 23:55:29+00:00  \n",
       "1 2022-08-28 23:33:35+00:00  \n",
       "2 2022-08-28 23:31:23+00:00  \n",
       "3 2022-08-28 23:26:41+00:00  \n",
       "4 2022-08-28 23:09:26+00:00  "
      ]
     },
     "execution_count": 42,
     "metadata": {},
     "output_type": "execute_result"
    }
   ],
   "source": [
    "tweets.head()"
   ]
  },
  {
   "cell_type": "code",
   "execution_count": 29,
   "id": "2c421522",
   "metadata": {},
   "outputs": [],
   "source": [
    "tweets.Messages = tweets.apply(lambda row: re.sub(r\"http\\S+\", \"\", row.Messages).lower(), 1)\n",
    "tweets.Messages = tweets.apply(lambda row: re.sub('rt', ' ', row.Messages).lower(), 1)\n",
    "tweets.Messages = tweets.apply(lambda row: \" \".join(filter(lambda x:x[0]!=\"@\", row.Messages.split())), 1)\n",
    "tweets.Messages = tweets.apply(lambda row: \" \".join(re.sub(\"[^a-zA-Z]+\", \" \", row.Messages).split()), 1)"
   ]
  },
  {
   "cell_type": "code",
   "execution_count": 30,
   "id": "2b7943d8",
   "metadata": {},
   "outputs": [
    {
     "data": {
      "text/html": [
       "<div>\n",
       "<style scoped>\n",
       "    .dataframe tbody tr th:only-of-type {\n",
       "        vertical-align: middle;\n",
       "    }\n",
       "\n",
       "    .dataframe tbody tr th {\n",
       "        vertical-align: top;\n",
       "    }\n",
       "\n",
       "    .dataframe thead th {\n",
       "        text-align: right;\n",
       "    }\n",
       "</style>\n",
       "<table border=\"1\" class=\"dataframe\">\n",
       "  <thead>\n",
       "    <tr style=\"text-align: right;\">\n",
       "      <th></th>\n",
       "      <th>Screen_Name</th>\n",
       "      <th>ID</th>\n",
       "      <th>Messages</th>\n",
       "      <th>Date_Stamp</th>\n",
       "      <th>State_Sponsor</th>\n",
       "      <th>probability</th>\n",
       "      <th>IS_BOT</th>\n",
       "      <th>Date</th>\n",
       "    </tr>\n",
       "  </thead>\n",
       "  <tbody>\n",
       "    <tr>\n",
       "      <th>0</th>\n",
       "      <td>CGMeifangZhang</td>\n",
       "      <td>1222894323152195586</td>\n",
       "      <td>leveraging taiwan to grab the global spotlight...</td>\n",
       "      <td>Sun Aug 28 21:03:52 +0000 2022</td>\n",
       "      <td>1</td>\n",
       "      <td>0.172702</td>\n",
       "      <td>0</td>\n",
       "      <td>2022-08-28 21:03:52+00:00</td>\n",
       "    </tr>\n",
       "    <tr>\n",
       "      <th>1</th>\n",
       "      <td>CGMeifangZhang</td>\n",
       "      <td>1222894323152195586</td>\n",
       "      <td>more than members of the global chinese commun...</td>\n",
       "      <td>Sun Aug 28 20:19:17 +0000 2022</td>\n",
       "      <td>1</td>\n",
       "      <td>0.172702</td>\n",
       "      <td>0</td>\n",
       "      <td>2022-08-28 20:19:17+00:00</td>\n",
       "    </tr>\n",
       "    <tr>\n",
       "      <th>2</th>\n",
       "      <td>CGMeifangZhang</td>\n",
       "      <td>1222894323152195586</td>\n",
       "      <td>so if the us navy wants to deter the pla saili...</td>\n",
       "      <td>Sun Aug 28 18:40:27 +0000 2022</td>\n",
       "      <td>1</td>\n",
       "      <td>0.172702</td>\n",
       "      <td>0</td>\n",
       "      <td>2022-08-28 18:40:27+00:00</td>\n",
       "    </tr>\n",
       "    <tr>\n",
       "      <th>3</th>\n",
       "      <td>MahuiChina</td>\n",
       "      <td>1187372311604858882</td>\n",
       "      <td>he and his son were strongly opposed to taiwan...</td>\n",
       "      <td>Sun Aug 28 17:00:37 +0000 2022</td>\n",
       "      <td>1</td>\n",
       "      <td>0.214706</td>\n",
       "      <td>0</td>\n",
       "      <td>2022-08-28 17:00:37+00:00</td>\n",
       "    </tr>\n",
       "    <tr>\n",
       "      <th>4</th>\n",
       "      <td>globaltimesnews</td>\n",
       "      <td>49616273</td>\n",
       "      <td>so if the us navy wants to deter the pla saili...</td>\n",
       "      <td>Sun Aug 28 14:29:56 +0000 2022</td>\n",
       "      <td>1</td>\n",
       "      <td>0.371962</td>\n",
       "      <td>0</td>\n",
       "      <td>2022-08-28 14:29:56+00:00</td>\n",
       "    </tr>\n",
       "  </tbody>\n",
       "</table>\n",
       "</div>"
      ],
      "text/plain": [
       "       Screen_Name                   ID  \\\n",
       "0   CGMeifangZhang  1222894323152195586   \n",
       "1   CGMeifangZhang  1222894323152195586   \n",
       "2   CGMeifangZhang  1222894323152195586   \n",
       "3       MahuiChina  1187372311604858882   \n",
       "4  globaltimesnews             49616273   \n",
       "\n",
       "                                            Messages  \\\n",
       "0  leveraging taiwan to grab the global spotlight...   \n",
       "1  more than members of the global chinese commun...   \n",
       "2  so if the us navy wants to deter the pla saili...   \n",
       "3  he and his son were strongly opposed to taiwan...   \n",
       "4  so if the us navy wants to deter the pla saili...   \n",
       "\n",
       "                       Date_Stamp  State_Sponsor  probability  IS_BOT  \\\n",
       "0  Sun Aug 28 21:03:52 +0000 2022              1     0.172702       0   \n",
       "1  Sun Aug 28 20:19:17 +0000 2022              1     0.172702       0   \n",
       "2  Sun Aug 28 18:40:27 +0000 2022              1     0.172702       0   \n",
       "3  Sun Aug 28 17:00:37 +0000 2022              1     0.214706       0   \n",
       "4  Sun Aug 28 14:29:56 +0000 2022              1     0.371962       0   \n",
       "\n",
       "                       Date  \n",
       "0 2022-08-28 21:03:52+00:00  \n",
       "1 2022-08-28 20:19:17+00:00  \n",
       "2 2022-08-28 18:40:27+00:00  \n",
       "3 2022-08-28 17:00:37+00:00  \n",
       "4 2022-08-28 14:29:56+00:00  "
      ]
     },
     "execution_count": 30,
     "metadata": {},
     "output_type": "execute_result"
    }
   ],
   "source": [
    "china_tweets.head()"
   ]
  },
  {
   "cell_type": "code",
   "execution_count": 31,
   "id": "cb048e01",
   "metadata": {},
   "outputs": [],
   "source": [
    "#Create List structures for topic modeling: Text and Dates\n",
    "dates = []\n",
    "data = []\n",
    "for message in tweets['Messages'].unique():\n",
    "    data.append(message)\n",
    "    temp =  china_tweets[china_tweets['Messages'] == message]\n",
    "    dates.append(temp['Date_Stamp'].to_list()[0])"
   ]
  },
  {
   "cell_type": "code",
   "execution_count": 32,
   "id": "42e9006e",
   "metadata": {},
   "outputs": [
    {
     "data": {
      "text/plain": [
       "5074"
      ]
     },
     "execution_count": 32,
     "metadata": {},
     "output_type": "execute_result"
    }
   ],
   "source": [
    "#Ensure length is the same\n",
    "len(data)"
   ]
  },
  {
   "cell_type": "code",
   "execution_count": 33,
   "id": "ae4a74cb",
   "metadata": {},
   "outputs": [
    {
     "data": {
      "text/plain": [
       "5074"
      ]
     },
     "execution_count": 33,
     "metadata": {},
     "output_type": "execute_result"
    }
   ],
   "source": [
    "len(dates)"
   ]
  },
  {
   "cell_type": "code",
   "execution_count": 34,
   "id": "2796d23b",
   "metadata": {},
   "outputs": [
    {
     "name": "stderr",
     "output_type": "stream",
     "text": [
      "100%|██████████| 5074/5074 [00:00<00:00, 121953.71it/s]\n"
     ]
    }
   ],
   "source": [
    "def preprocess(message):\n",
    "    \"\"\"\n",
    "    This function takes a string as input, then performs these operations: \n",
    "        - lowercase\n",
    "        - remove URLs\n",
    "        - remove ticker symbols \n",
    "        - removes punctuation\n",
    "        - removes any single character tokens\n",
    "    Parameters\n",
    "    ----------\n",
    "        message : The text message to be preprocessed\n",
    "    Returns\n",
    "    -------\n",
    "        text: The preprocessed text\n",
    "    \"\"\" \n",
    "    # Lowercase the twit message\n",
    "    text = message.lower()\n",
    "    # Replace URLs with a space in the message\n",
    "    #text = re.sub('https?:\\/\\/[a-zA-Z0-9@:%._\\/+~#=?&;-]*', ' ', text)\n",
    "    # Replace ticker symbols with a space. The ticker symbols are any stock symbol that starts with $.\n",
    "    #text = re.sub('\\$[a-zA-Z0-9]*', ' ', text)\n",
    "    # Replace StockTwits usernames with a space. The usernames are any word that starts with @.\n",
    "    #text = re.sub('\\@[a-zA-Z0-9]*', ' ', text)\n",
    "    # Replace everything not a letter or apostrophe with a space\n",
    "    #text = re.sub('[^a-zA-Z\\']', ' ', text)\n",
    "    text = re.sub('rt', ' ', text)\n",
    "    text = re.sub('@*:', ' ', text)\n",
    "    # Remove single letter words\n",
    "    text = ' '.join( [w for w in text.split() if len(w)>1] )\n",
    "    \n",
    "    return text\n",
    "        \n",
    "# Process for all messages\n",
    "preprocessed = [preprocess(message) for message in tqdm(data)]"
   ]
  },
  {
   "cell_type": "code",
   "execution_count": 35,
   "id": "f821c40b",
   "metadata": {},
   "outputs": [],
   "source": [
    "with open('taiwan_data_no-retweets-2023.pkl', 'wb') as f:\n",
    "    pickle.dump(data, f)"
   ]
  }
 ],
 "metadata": {
  "kernelspec": {
   "display_name": "Python 3",
   "language": "python",
   "name": "python3"
  },
  "language_info": {
   "codemirror_mode": {
    "name": "ipython",
    "version": 3
   },
   "file_extension": ".py",
   "mimetype": "text/x-python",
   "name": "python",
   "nbconvert_exporter": "python",
   "pygments_lexer": "ipython3",
   "version": "3.8.8"
  }
 },
 "nbformat": 4,
 "nbformat_minor": 5
}
